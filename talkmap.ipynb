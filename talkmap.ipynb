{
 "cells": [
  {
   "cell_type": "markdown",
   "metadata": {},
   "source": [
    "# Leaflet cluster map of talk locations\n",
    "\n",
    "Run this from the _talks/ directory, which contains .md files of all your talks. This scrapes the location YAML field from each .md file, geolocates it with geopy/Nominatim, and uses the getorg library to output data, HTML, and Javascript for a standalone cluster map."
   ]
  },
  {
   "cell_type": "code",
   "metadata": {
    "collapsed": false,
    "ExecuteTime": {
     "end_time": "2024-09-23T14:56:04.738716Z",
     "start_time": "2024-09-23T14:55:57.878914Z"
    }
   },
   "source": [
    "!pip install getorg --upgrade\n",
    "import glob\n",
    "import getorg\n",
    "from geopy import Nominatim"
   ],
   "outputs": [
    {
     "name": "stdout",
     "output_type": "stream",
     "text": [
      "Collecting getorg\n",
      "  Downloading getorg-0.3.1-py2.py3-none-any.whl (39 kB)\n",
      "Collecting pygithub\n",
      "  Downloading PyGithub-2.4.0-py3-none-any.whl (362 kB)\n",
      "     -------------------------------------- 362.6/362.6 kB 7.5 MB/s eta 0:00:00\n",
      "Collecting geopy\n",
      "  Downloading geopy-2.4.1-py3-none-any.whl (125 kB)\n",
      "     ---------------------------------------- 125.4/125.4 kB ? eta 0:00:00\n",
      "Collecting retrying\n",
      "  Downloading retrying-1.3.4-py3-none-any.whl (11 kB)\n",
      "Collecting geographiclib<3,>=1.52\n",
      "  Downloading geographiclib-2.0-py3-none-any.whl (40 kB)\n",
      "     ---------------------------------------- 40.3/40.3 kB ? eta 0:00:00\n",
      "Collecting Deprecated\n",
      "  Downloading Deprecated-1.2.14-py2.py3-none-any.whl (9.6 kB)\n",
      "Requirement already satisfied: urllib3>=1.26.0 in c:\\users\\xuewen\\anaconda3\\lib\\site-packages (from pygithub->getorg) (1.26.14)\n",
      "Requirement already satisfied: pynacl>=1.4.0 in c:\\users\\xuewen\\anaconda3\\lib\\site-packages (from pygithub->getorg) (1.5.0)\n",
      "Requirement already satisfied: pyjwt[crypto]>=2.4.0 in c:\\users\\xuewen\\anaconda3\\lib\\site-packages (from pygithub->getorg) (2.4.0)\n",
      "Requirement already satisfied: requests>=2.14.0 in c:\\users\\xuewen\\anaconda3\\lib\\site-packages (from pygithub->getorg) (2.28.1)\n",
      "Requirement already satisfied: typing-extensions>=4.0.0 in c:\\users\\xuewen\\anaconda3\\lib\\site-packages (from pygithub->getorg) (4.4.0)\n",
      "Requirement already satisfied: six>=1.7.0 in c:\\users\\xuewen\\anaconda3\\lib\\site-packages (from retrying->getorg) (1.16.0)\n",
      "Requirement already satisfied: cryptography>=3.3.1 in c:\\users\\xuewen\\anaconda3\\lib\\site-packages (from pyjwt[crypto]>=2.4.0->pygithub->getorg) (39.0.1)\n",
      "Requirement already satisfied: cffi>=1.4.1 in c:\\users\\xuewen\\anaconda3\\lib\\site-packages (from pynacl>=1.4.0->pygithub->getorg) (1.15.1)\n",
      "Requirement already satisfied: charset-normalizer<3,>=2 in c:\\users\\xuewen\\anaconda3\\lib\\site-packages (from requests>=2.14.0->pygithub->getorg) (2.0.4)\n",
      "Requirement already satisfied: certifi>=2017.4.17 in c:\\users\\xuewen\\anaconda3\\lib\\site-packages (from requests>=2.14.0->pygithub->getorg) (2022.12.7)\n",
      "Requirement already satisfied: idna<4,>=2.5 in c:\\users\\xuewen\\anaconda3\\lib\\site-packages (from requests>=2.14.0->pygithub->getorg) (3.4)\n",
      "Requirement already satisfied: wrapt<2,>=1.10 in c:\\users\\xuewen\\anaconda3\\lib\\site-packages (from Deprecated->pygithub->getorg) (1.14.1)\n",
      "Requirement already satisfied: pycparser in c:\\users\\xuewen\\anaconda3\\lib\\site-packages (from cffi>=1.4.1->pynacl>=1.4.0->pygithub->getorg) (2.21)\n",
      "Installing collected packages: retrying, geographiclib, Deprecated, geopy, pygithub, getorg\n",
      "Successfully installed Deprecated-1.2.14 geographiclib-2.0 geopy-2.4.1 getorg-0.3.1 pygithub-2.4.0 retrying-1.3.4\n",
      "Iywidgets and ipyleaflet support disabled. You must be in a Jupyter notebook to use this feature.\n",
      "Error raised:\n",
      "No module named 'ipyleaflet'\n",
      "Check that you have enabled ipyleaflet in Jupyter with:\n",
      "    jupyter nbextension enable --py ipyleaflet\n"
     ]
    }
   ],
   "execution_count": 1
  },
  {
   "cell_type": "code",
   "metadata": {
    "collapsed": false,
    "ExecuteTime": {
     "end_time": "2024-09-23T14:56:20.800056Z",
     "start_time": "2024-09-23T14:56:20.780829Z"
    }
   },
   "source": [
    "g = glob.glob(\"*.md\")"
   ],
   "outputs": [],
   "execution_count": 2
  },
  {
   "cell_type": "code",
   "metadata": {
    "collapsed": true,
    "ExecuteTime": {
     "end_time": "2024-09-23T14:56:24.985153Z",
     "start_time": "2024-09-23T14:56:24.296773Z"
    }
   },
   "source": [
    "geocoder = Nominatim()\n",
    "location_dict = {}\n",
    "location = \"\"\n",
    "permalink = \"\"\n",
    "title = \"\""
   ],
   "outputs": [
    {
     "ename": "ConfigurationError",
     "evalue": "Using Nominatim with default or sample `user_agent` \"geopy/2.4.1\" is strongly discouraged, as it violates Nominatim's ToS https://operations.osmfoundation.org/policies/nominatim/ and may possibly cause 403 and 429 HTTP errors. Please specify a custom `user_agent` with `Nominatim(user_agent=\"my-application\")` or by overriding the default `user_agent`: `geopy.geocoders.options.default_user_agent = \"my-application\"`.",
     "output_type": "error",
     "traceback": [
      "\u001B[1;31m---------------------------------------------------------------------------\u001B[0m",
      "\u001B[1;31mConfigurationError\u001B[0m                        Traceback (most recent call last)",
      "Cell \u001B[1;32mIn[3], line 1\u001B[0m\n\u001B[1;32m----> 1\u001B[0m geocoder \u001B[38;5;241m=\u001B[39m \u001B[43mNominatim\u001B[49m\u001B[43m(\u001B[49m\u001B[43m)\u001B[49m\n\u001B[0;32m      2\u001B[0m location_dict \u001B[38;5;241m=\u001B[39m {}\n\u001B[0;32m      3\u001B[0m location \u001B[38;5;241m=\u001B[39m \u001B[38;5;124m\"\u001B[39m\u001B[38;5;124m\"\u001B[39m\n",
      "File \u001B[1;32m~\\anaconda3\\lib\\site-packages\\geopy\\geocoders\\nominatim.py:105\u001B[0m, in \u001B[0;36mNominatim.__init__\u001B[1;34m(self, timeout, proxies, domain, scheme, user_agent, ssl_context, adapter_factory)\u001B[0m\n\u001B[0;32m    101\u001B[0m \u001B[38;5;28mself\u001B[39m\u001B[38;5;241m.\u001B[39mdomain \u001B[38;5;241m=\u001B[39m domain\u001B[38;5;241m.\u001B[39mstrip(\u001B[38;5;124m'\u001B[39m\u001B[38;5;124m/\u001B[39m\u001B[38;5;124m'\u001B[39m)\n\u001B[0;32m    103\u001B[0m \u001B[38;5;28;01mif\u001B[39;00m (\u001B[38;5;28mself\u001B[39m\u001B[38;5;241m.\u001B[39mdomain \u001B[38;5;241m==\u001B[39m _DEFAULT_NOMINATIM_DOMAIN\n\u001B[0;32m    104\u001B[0m         \u001B[38;5;129;01mand\u001B[39;00m \u001B[38;5;28mself\u001B[39m\u001B[38;5;241m.\u001B[39mheaders[\u001B[38;5;124m'\u001B[39m\u001B[38;5;124mUser-Agent\u001B[39m\u001B[38;5;124m'\u001B[39m] \u001B[38;5;129;01min\u001B[39;00m _REJECTED_USER_AGENTS):\n\u001B[1;32m--> 105\u001B[0m     \u001B[38;5;28;01mraise\u001B[39;00m ConfigurationError(\n\u001B[0;32m    106\u001B[0m         \u001B[38;5;124m'\u001B[39m\u001B[38;5;124mUsing Nominatim with default or sample `user_agent` \u001B[39m\u001B[38;5;124m\"\u001B[39m\u001B[38;5;132;01m%s\u001B[39;00m\u001B[38;5;124m\"\u001B[39m\u001B[38;5;124m is \u001B[39m\u001B[38;5;124m'\u001B[39m\n\u001B[0;32m    107\u001B[0m         \u001B[38;5;124m'\u001B[39m\u001B[38;5;124mstrongly discouraged, as it violates Nominatim\u001B[39m\u001B[38;5;130;01m\\'\u001B[39;00m\u001B[38;5;124ms ToS \u001B[39m\u001B[38;5;124m'\u001B[39m\n\u001B[0;32m    108\u001B[0m         \u001B[38;5;124m'\u001B[39m\u001B[38;5;124mhttps://operations.osmfoundation.org/policies/nominatim/ \u001B[39m\u001B[38;5;124m'\u001B[39m\n\u001B[0;32m    109\u001B[0m         \u001B[38;5;124m'\u001B[39m\u001B[38;5;124mand may possibly cause 403 and 429 HTTP errors. \u001B[39m\u001B[38;5;124m'\u001B[39m\n\u001B[0;32m    110\u001B[0m         \u001B[38;5;124m'\u001B[39m\u001B[38;5;124mPlease specify a custom `user_agent` with \u001B[39m\u001B[38;5;124m'\u001B[39m\n\u001B[0;32m    111\u001B[0m         \u001B[38;5;124m'\u001B[39m\u001B[38;5;124m`Nominatim(user_agent=\u001B[39m\u001B[38;5;124m\"\u001B[39m\u001B[38;5;124mmy-application\u001B[39m\u001B[38;5;124m\"\u001B[39m\u001B[38;5;124m)` or by \u001B[39m\u001B[38;5;124m'\u001B[39m\n\u001B[0;32m    112\u001B[0m         \u001B[38;5;124m'\u001B[39m\u001B[38;5;124moverriding the default `user_agent`: \u001B[39m\u001B[38;5;124m'\u001B[39m\n\u001B[0;32m    113\u001B[0m         \u001B[38;5;124m'\u001B[39m\u001B[38;5;124m`geopy.geocoders.options.default_user_agent = \u001B[39m\u001B[38;5;124m\"\u001B[39m\u001B[38;5;124mmy-application\u001B[39m\u001B[38;5;124m\"\u001B[39m\u001B[38;5;124m`.\u001B[39m\u001B[38;5;124m'\u001B[39m\n\u001B[0;32m    114\u001B[0m         \u001B[38;5;241m%\u001B[39m \u001B[38;5;28mself\u001B[39m\u001B[38;5;241m.\u001B[39mheaders[\u001B[38;5;124m'\u001B[39m\u001B[38;5;124mUser-Agent\u001B[39m\u001B[38;5;124m'\u001B[39m]\n\u001B[0;32m    115\u001B[0m     )\n\u001B[0;32m    117\u001B[0m \u001B[38;5;28mself\u001B[39m\u001B[38;5;241m.\u001B[39mapi \u001B[38;5;241m=\u001B[39m \u001B[38;5;124m\"\u001B[39m\u001B[38;5;132;01m%s\u001B[39;00m\u001B[38;5;124m://\u001B[39m\u001B[38;5;132;01m%s\u001B[39;00m\u001B[38;5;132;01m%s\u001B[39;00m\u001B[38;5;124m\"\u001B[39m \u001B[38;5;241m%\u001B[39m (\u001B[38;5;28mself\u001B[39m\u001B[38;5;241m.\u001B[39mscheme, \u001B[38;5;28mself\u001B[39m\u001B[38;5;241m.\u001B[39mdomain, \u001B[38;5;28mself\u001B[39m\u001B[38;5;241m.\u001B[39mgeocode_path)\n\u001B[0;32m    118\u001B[0m \u001B[38;5;28mself\u001B[39m\u001B[38;5;241m.\u001B[39mreverse_api \u001B[38;5;241m=\u001B[39m \u001B[38;5;124m\"\u001B[39m\u001B[38;5;132;01m%s\u001B[39;00m\u001B[38;5;124m://\u001B[39m\u001B[38;5;132;01m%s\u001B[39;00m\u001B[38;5;132;01m%s\u001B[39;00m\u001B[38;5;124m\"\u001B[39m \u001B[38;5;241m%\u001B[39m (\u001B[38;5;28mself\u001B[39m\u001B[38;5;241m.\u001B[39mscheme, \u001B[38;5;28mself\u001B[39m\u001B[38;5;241m.\u001B[39mdomain, \u001B[38;5;28mself\u001B[39m\u001B[38;5;241m.\u001B[39mreverse_path)\n",
      "\u001B[1;31mConfigurationError\u001B[0m: Using Nominatim with default or sample `user_agent` \"geopy/2.4.1\" is strongly discouraged, as it violates Nominatim's ToS https://operations.osmfoundation.org/policies/nominatim/ and may possibly cause 403 and 429 HTTP errors. Please specify a custom `user_agent` with `Nominatim(user_agent=\"my-application\")` or by overriding the default `user_agent`: `geopy.geocoders.options.default_user_agent = \"my-application\"`."
     ]
    }
   ],
   "execution_count": 3
  },
  {
   "cell_type": "code",
   "metadata": {
    "collapsed": false,
    "ExecuteTime": {
     "end_time": "2024-09-23T14:56:32.454858Z",
     "start_time": "2024-09-23T14:56:32.424543Z"
    }
   },
   "source": [
    "\n",
    "for file in g:\n",
    "    with open(file, 'r') as f:\n",
    "        lines = f.read()\n",
    "        if lines.find('location: \"') > 1:\n",
    "            loc_start = lines.find('location: \"') + 11\n",
    "            lines_trim = lines[loc_start:]\n",
    "            loc_end = lines_trim.find('\"')\n",
    "            location = lines_trim[:loc_end]\n",
    "                            \n",
    "           \n",
    "        location_dict[location] = geocoder.geocode(location)\n",
    "        print(location, \"\\n\", location_dict[location])\n"
   ],
   "outputs": [
    {
     "ename": "NameError",
     "evalue": "name 'geocoder' is not defined",
     "output_type": "error",
     "traceback": [
      "\u001B[1;31m---------------------------------------------------------------------------\u001B[0m",
      "\u001B[1;31mNameError\u001B[0m                                 Traceback (most recent call last)",
      "Cell \u001B[1;32mIn[4], line 11\u001B[0m\n\u001B[0;32m      7\u001B[0m     loc_end \u001B[38;5;241m=\u001B[39m lines_trim\u001B[38;5;241m.\u001B[39mfind(\u001B[38;5;124m'\u001B[39m\u001B[38;5;124m\"\u001B[39m\u001B[38;5;124m'\u001B[39m)\n\u001B[0;32m      8\u001B[0m     location \u001B[38;5;241m=\u001B[39m lines_trim[:loc_end]\n\u001B[1;32m---> 11\u001B[0m location_dict[location] \u001B[38;5;241m=\u001B[39m \u001B[43mgeocoder\u001B[49m\u001B[38;5;241m.\u001B[39mgeocode(location)\n\u001B[0;32m     12\u001B[0m \u001B[38;5;28mprint\u001B[39m(location, \u001B[38;5;124m\"\u001B[39m\u001B[38;5;130;01m\\n\u001B[39;00m\u001B[38;5;124m\"\u001B[39m, location_dict[location])\n",
      "\u001B[1;31mNameError\u001B[0m: name 'geocoder' is not defined"
     ]
    }
   ],
   "execution_count": 4
  },
  {
   "cell_type": "code",
   "execution_count": 5,
   "metadata": {
    "collapsed": false
   },
   "outputs": [
    {
     "data": {
      "text/plain": [
       "'Written map to ../talkmap/'"
      ]
     },
     "execution_count": 5,
     "metadata": {},
     "output_type": "execute_result"
    }
   ],
   "source": [
    "m = getorg.orgmap.create_map_obj()\n",
    "getorg.orgmap.output_html_cluster_map(location_dict, folder_name=\"../talkmap\", hashed_usernames=False)"
   ]
  },
  {
   "cell_type": "code",
   "execution_count": null,
   "metadata": {
    "collapsed": true
   },
   "outputs": [],
   "source": []
  }
 ],
 "metadata": {
  "anaconda-cloud": {},
  "kernelspec": {
   "display_name": "Python 3 (ipykernel)",
   "language": "python",
   "name": "python3"
  },
  "language_info": {
   "codemirror_mode": {
    "name": "ipython",
    "version": 3
   },
   "file_extension": ".py",
   "mimetype": "text/x-python",
   "name": "python",
   "nbconvert_exporter": "python",
   "pygments_lexer": "ipython3",
   "version": "3.5.2"
  }
 },
 "nbformat": 4,
 "nbformat_minor": 0
}
